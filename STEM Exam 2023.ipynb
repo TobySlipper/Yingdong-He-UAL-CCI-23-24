{
 "cells": [
  {
   "cell_type": "markdown",
   "metadata": {},
   "source": [
    "# STEM Exam 2023 - Yingdong He 23019658"
   ]
  },
  {
   "cell_type": "markdown",
   "metadata": {},
   "source": [
    "### Question 1:\n",
    "Given this dataset (derived from National Gallery of Art Open Data Program) provide 3 interesting insights based on statistical methods we have looked at the unit (sorting, filtering, counting, averaging etc…).\n",
    "\n",
    "This code will load in the dataset\n",
    "\n",
    "\n",
    "file = open('data/pd_objects.csv')\n",
    "dataset = np.loadtxt(file, dtype = 'O', delimiter=\"\\t\", skiprows=1)\n",
    "dataset[:,1] = dataset[:,1].astype(float)\n",
    "dataset[:,2] = dataset[:,2].astype(float)\n",
    "dataset = np.array(dataset)\n",
    "\n",
    "The headings from the tsv file are :\n",
    "title [0]\n",
    "beginyear [1]\n",
    "endyear [2]\n",
    "medium [3]\n",
    "dimensions [4]\n",
    "inscription [5]\n",
    "markings [6]\n",
    "attribution [7]\n",
    "creditline [8]\n",
    "classification [9]\n",
    "customprinturl    [10]\n",
    "Provide code used to reach insights and explain why you picked these insights (200 words)"
   ]
  },
  {
   "cell_type": "code",
   "execution_count": 1,
   "metadata": {},
   "outputs": [],
   "source": [
    "#import the modules needed\n",
    "import numpy as np\n",
    "import matplotlib.pyplot as plt\n",
    "from collections import Counter"
   ]
  },
  {
   "cell_type": "code",
   "execution_count": 2,
   "metadata": {},
   "outputs": [],
   "source": [
    "#load the dataset\n",
    "file = open('data/pd_objects.csv')\n",
    "dataset = np.loadtxt(file, dtype = 'O', delimiter=\"\\t\", skiprows=1)\n",
    "dataset[:,1] = dataset[:,1].astype(float)\n",
    "dataset[:,2] = dataset[:,2].astype(float)\n",
    "dataset = np.array(dataset)"
   ]
  },
  {
   "cell_type": "markdown",
   "metadata": {},
   "source": [
    "#Insight 1: \n",
    "\n",
    "Among all these artwork pieces, the most common medium is gelatin silver print. There are 10,351 art pieces in this medium, which is about 7.39% of the total number of these artwork pieces. I picked this as insight 1 since it tells which is the most common or popular artwork medium among the collections from this National Gallery of Art Open Data Program. And we can see that while being the most common medium, it only occupies 7.39%, which also reflects the rich diversity of artwork medium of the collection."
   ]
  },
  {
   "cell_type": "code",
   "execution_count": 3,
   "metadata": {},
   "outputs": [
    {
     "name": "stdout",
     "output_type": "stream",
     "text": [
      "The most common art medium is gelatin silver print and there are 10351 art pieces of this medium, which is about 7.39% of the total amount of artwork pieces.\n"
     ]
    }
   ],
   "source": [
    "medium=dataset[:,3]  #create an array with only the museum type data column\n",
    "\n",
    "most_common_medium=Counter(medium).most_common(1)  #count the amount of most common medium\n",
    "\n",
    "#since the output is a tuple, [0][1] is to get the number column only, and then calculate the %:\n",
    "pctg_total=((most_common_medium[0][1])/(len(dataset)))  \n",
    "\n",
    "print(\"The most common art medium is\", most_common_medium[0][0], \"and there are\", most_common_medium[0][1], \"art pieces of this medium, which is about\", \"%2.2f%%\" % (pctg_total*100), \"of the total amount of artwork pieces.\")"
   ]
  },
  {
   "cell_type": "markdown",
   "metadata": {},
   "source": [
    "#Insight 2: \n",
    "\n",
    "Of all of these artwork attributes, Robert Frank is the person who attributed the most. He (I assume this is a man) attributed 5036 pieces of artwork. In all of his attributions, the most common artwork medium is gelatin silver print, the same as the most common artwork medium of all the artworks in this dataset. I picked this as my insight 2 since it tells us who contributed the most to this museum collection, and with a total amount of 5036 pieces of artwork, Robert Frank is definitely a great artist who is being recognized by the National Gallery of Art."
   ]
  },
  {
   "cell_type": "code",
   "execution_count": 4,
   "metadata": {},
   "outputs": [
    {
     "name": "stdout",
     "output_type": "stream",
     "text": [
      "gelatin silver print\n",
      "The person who attributed the most is Robert Frank; his/her attributed about 5036 pieces of artwork.\n",
      "The most common medium of his/her attributed artwork is gelatin silver print.\n"
     ]
    }
   ],
   "source": [
    "attribution=dataset[:,7]  #create an array with only the attribution data column\n",
    "\n",
    "most_attribution=Counter(attribution).most_common(1)  #calculate how many is from the most common attribution:\n",
    "\n",
    "#find the art pieces that are attributed by the person of most attribuion\n",
    "fav=dataset[:,7]==most_attribution[0][0]    \n",
    "rob_fav=dataset[fav]\n",
    "\n",
    "for i in rob_fav:\n",
    "    most_attribution_medium_list=[]\n",
    "    most_attribution_medium_list.append(i[3])\n",
    "\n",
    "most_attribution_medium=Counter(most_attribution_medium_list).most_common(1)\n",
    "print(most_attribution_medium[0][0])\n",
    "\n",
    "print(\"The person who attributed the most is\", most_attribution[0][0] + \";\", \"his/her attributed about\", most_attribution[0][1], \"pieces of artwork.\")\n",
    "print(\"The most common medium of his/her attributed artwork is\", most_attribution_medium[0][0] + \".\")"
   ]
  },
  {
   "cell_type": "markdown",
   "metadata": {},
   "source": [
    "#Insight 3:\n",
    "\n",
    "I picked this as my insight 3 since I found this one very interesting. As per my calculation, the art piece that took the longest span to finish (I assume the year data is for the time cost for creating) is 'Peter with the Keys', a pen and ink with gouache on vellum artwork which took 900 years to finish! It started in the year 1000 and ended in the year 1900. This is super astonishing since I never expected to see a large number like this. I can only imagine something happened during the creation process that had to be interrupted many times."
   ]
  },
  {
   "cell_type": "code",
   "execution_count": 7,
   "metadata": {},
   "outputs": [
    {
     "name": "stdout",
     "output_type": "stream",
     "text": [
      "The art piece that took the longest time span is Peter with the Keys , it started at 1000 and ended at 1900 , which took 900 years.\n",
      "It is a pen and ink with gouache on vellum artwork.\n"
     ]
    }
   ],
   "source": [
    "time_span=abs(dataset[:,2])-abs(dataset[:,1]) #time span is the difference between the end year and the begin year\n",
    "sorted_time_span=np.sort(time_span)  #rank from the smallest to the largest\n",
    "#print(sorted_time_span[-1])\n",
    "\n",
    "#and find the index of the art piece with the longest time span:\n",
    "index=np.where(time_span==sorted_time_span[-1])\n",
    "#print(dataset[index])\n",
    "print(\"The art piece that took the longest time span is\", dataset[index][0][0], \",\", \"it started at\", int(dataset[index][0][1]), \"and ended at\", int(dataset[index][0][2]), \",\", \"which took\", int(sorted_time_span[-1]), \"years.\")\n",
    "print(\"It is a\", dataset[index][0][3], \"artwork.\")"
   ]
  },
  {
   "cell_type": "markdown",
   "metadata": {},
   "source": [
    "### Question 2:\n",
    "Using Python and the Animator.py library, create a short sketch meatching this brief. \n",
    "\n",
    "Brief: create an animation where the objects gradually change their colors across the spectrum (or a chosen palette / subset of colours),\n",
    "creating a smooth gradient effect over time. The challenge is to interpolate between different colors in a visually appealing way, \n",
    "either over time or in response to user input.\n",
    "\n",
    "Discuss your creative goals for the sketch and how you have used Python coding to reach them"
   ]
  },
  {
   "cell_type": "code",
   "execution_count": 10,
   "metadata": {},
   "outputs": [],
   "source": [
    "#do the imports first\n",
    "from cv2 import circle, ellipse\n",
    "from Animator import Animator\n",
    "#import random"
   ]
  },
  {
   "cell_type": "markdown",
   "metadata": {},
   "source": [
    "In this drawing task, I drew a \"Micky Mouse\" using cv2 methods, such that its colour can change in a red-pink-yellow-orange-red pallet based on the frame changes each second. Based on the Animator.py file, I created a sketch class to make the drawing. The \"Micky Mouse\" will move to follow the user's mouse position on the canvas, with its ears appearing and hiding, also depending on the frame changes each second. Codes below:"
   ]
  },
  {
   "cell_type": "code",
   "execution_count": 11,
   "metadata": {},
   "outputs": [
    {
     "name": "stdout",
     "output_type": "stream",
     "text": [
      "init\n",
      "setup\n"
     ]
    },
    {
     "data": {
      "text/plain": [
       "<__main__.MySketch at 0x2ae5834b950>"
      ]
     },
     "execution_count": 11,
     "metadata": {},
     "output_type": "execute_result"
    }
   ],
   "source": [
    "an = Animator() \n",
    "\n",
    "#define this class to create the animation, referenced from the Animator.py file\n",
    "class MySketch:\n",
    "\n",
    "    def __init__(self):\n",
    "        an.start_loop(self.setup, self.draw)  \n",
    "\n",
    "    def setup(self):\n",
    "        print(\"setup\")\n",
    "\n",
    "    #draw a micky mouse based on the mouse position\n",
    "    def draw(self):\n",
    "        an.background((0,0,0))\n",
    " \n",
    "        frame = an.frame % 60  #set as 60 fps\n",
    "        \n",
    "        #set the random colour of the micky mouse\n",
    "        #colour = (random.randint(60,195)+frame,random.randint(60,195)+frame,random.randint(60,195)+frame)\n",
    "\n",
    "        #do a red - pink - yellow - orange - red gradient\n",
    "        if frame < 15:\n",
    "            colour = (255, frame*6, frame*6)\n",
    "        \n",
    "        elif frame >= 15 and frame < 30:\n",
    "            colour = (255, (frame*7-55), (frame*7-55))\n",
    "        \n",
    "        elif frame >= 30 and frame < 45:\n",
    "            colour = (255, (frame*7-65), (frame*7-170))\n",
    "\n",
    "        elif frame >= 45 and frame < 60:\n",
    "            colour = (255, (255-frame*3), 0)\n",
    "\n",
    "        #only let the ears appear when the frame is >15\n",
    "        if frame > 15:\n",
    "            circle(an.canvas, (an.mouse_x-30, an.mouse_y-30), 38, colour, -1)\n",
    "            circle(an.canvas, (an.mouse_x+30, an.mouse_y-30), 38, colour, -1)\n",
    "        \n",
    "        circle(an.canvas, (an.mouse_x, an.mouse_y), 55, colour, -1)\n",
    "        ellipse(an.canvas, (an.mouse_x-15, an.mouse_y-15), (8, 12), 0, 0, 360, 0, -1)\n",
    "        ellipse(an.canvas, (an.mouse_x+15, an.mouse_y-15), (8, 12), 0, 0, 360, 0, -1)\n",
    "\n",
    "MySketch()          "
   ]
  }
 ],
 "metadata": {
  "kernelspec": {
   "display_name": "tf_m1",
   "language": "python",
   "name": "python3"
  },
  "language_info": {
   "codemirror_mode": {
    "name": "ipython",
    "version": 3
   },
   "file_extension": ".py",
   "mimetype": "text/x-python",
   "name": "python",
   "nbconvert_exporter": "python",
   "pygments_lexer": "ipython3",
   "version": "3.11.4"
  },
  "orig_nbformat": 4
 },
 "nbformat": 4,
 "nbformat_minor": 2
}
